{
  "nbformat": 4,
  "nbformat_minor": 0,
  "metadata": {
    "colab": {
      "provenance": [],
      "authorship_tag": "ABX9TyMDTAYd5qw93IOEyFWlKwoG",
      "include_colab_link": true
    },
    "kernelspec": {
      "name": "python3",
      "display_name": "Python 3"
    },
    "language_info": {
      "name": "python"
    }
  },
  "cells": [
    {
      "cell_type": "markdown",
      "metadata": {
        "id": "view-in-github",
        "colab_type": "text"
      },
      "source": [
        "<a href=\"https://colab.research.google.com/github/lekh-ch/intern-task4/blob/main/Untitled7.ipynb\" target=\"_parent\"><img src=\"https://colab.research.google.com/assets/colab-badge.svg\" alt=\"Open In Colab\"/></a>"
      ]
    },
    {
      "cell_type": "code",
      "execution_count": null,
      "metadata": {
        "colab": {
          "base_uri": "https://localhost:8080/"
        },
        "id": "98RDxPOdw6D-",
        "outputId": "e488e6fd-4114-40ad-8ca6-37158f016f3b"
      },
      "outputs": [
        {
          "output_type": "stream",
          "name": "stdout",
          "text": [
            "Welcome to the Virtual Coin Toss!\n",
            "\n",
            "How many coin flips would you like to perform? 5\n",
            "Flip 1: Heads\n",
            "Flip 2: Heads\n",
            "Flip 3: Heads\n",
            "Flip 4: Tails\n",
            "Flip 5: Heads\n",
            "\n",
            "Results:\n",
            "Heads: 4 (80.0%)\n",
            "Tails: 1 (20.0%)\n",
            "\n",
            "Would you like to perform another coin toss? (yes/no): yes\n",
            "\n",
            "How many coin flips would you like to perform? 3\n",
            "Flip 1: Heads\n",
            "Flip 2: Tails\n",
            "Flip 3: Tails\n",
            "\n",
            "Results:\n",
            "Heads: 1 (33.3%)\n",
            "Tails: 2 (66.7%)\n",
            "\n",
            "Would you like to perform another coin toss? (yes/no): no\n",
            "\n",
            "Thank you for using the Virtual Coin Toss!\n"
          ]
        }
      ],
      "source": [
        "import random\n",
        "\n",
        "def coin_toss():\n",
        "    \"\"\"Simulates a single coin toss.\"\"\"\n",
        "    return random.choice([\"Heads\", \"Tails\"])\n",
        "\n",
        "def main():\n",
        "    \"\"\"Main function to run the coin toss simulation.\"\"\"\n",
        "    print(\"Welcome to the Virtual Coin Toss!\")\n",
        "\n",
        "    while True:\n",
        "        try:\n",
        "            num_flips = int(input(\"\\nHow many coin flips would you like to perform? \"))\n",
        "            if num_flips < 0:\n",
        "                print(\"Please enter a positive number.\")\n",
        "                continue\n",
        "        except ValueError:\n",
        "            print(\"Invalid input. Please enter a number.\")\n",
        "            continue\n",
        "\n",
        "        heads_count = 0\n",
        "        tails_count = 0\n",
        "\n",
        "        for i in range(1, num_flips + 1):\n",
        "            result = coin_toss()\n",
        "            print(f\"Flip {i}: {result}\")\n",
        "            if result == \"Heads\":\n",
        "                heads_count += 1\n",
        "            else:\n",
        "                tails_count += 1\n",
        "\n",
        "        total_flips = heads_count + tails_count\n",
        "        heads_percentage = (heads_count / total_flips) * 100 if total_flips > 0 else 0\n",
        "        tails_percentage = (tails_count / total_flips) * 100 if total_flips > 0 else 0\n",
        "\n",
        "        print(\"\\nResults:\")\n",
        "        print(f\"Heads: {heads_count} ({heads_percentage:.1f}%)\")\n",
        "        print(f\"Tails: {tails_count} ({tails_percentage:.1f}%)\")\n",
        "\n",
        "        repeat = input(\"\\nWould you like to perform another coin toss? (yes/no): \").lower()\n",
        "        if repeat != \"yes\":\n",
        "            print(\"\\nThank you for using the Virtual Coin Toss!\")\n",
        "            break\n",
        "\n",
        "if __name__ == \"__main__\":\n",
        "    main()"
      ]
    }
  ]
}